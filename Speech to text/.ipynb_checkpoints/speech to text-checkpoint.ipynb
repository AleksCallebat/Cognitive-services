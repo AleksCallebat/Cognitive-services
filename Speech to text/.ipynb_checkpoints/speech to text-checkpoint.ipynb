{
 "cells": [
  {
   "cell_type": "markdown",
   "metadata": {},
   "source": [
    "idée : 1. discours d'inauguration politique\n",
    "2. comparer API avec speechrecognition de python\n",
    "3. Cinéma(qui parle le mieux?)\n",
    "4. Quelle bande de musique est la plus imbittable?"
   ]
  },
  {
   "cell_type": "code",
   "execution_count": 16,
   "metadata": {
    "collapsed": false
   },
   "outputs": [],
   "source": [
    "import speech_recognition as sr\n",
    "import pyaudio\n",
    "import wave\n",
    "import sys\n",
    "from os import path"
   ]
  },
  {
   "cell_type": "code",
   "execution_count": 20,
   "metadata": {
    "collapsed": false
   },
   "outputs": [],
   "source": [
    "wf=wave.open(audio)"
   ]
  },
  {
   "cell_type": "code",
   "execution_count": 28,
   "metadata": {
    "collapsed": false
   },
   "outputs": [],
   "source": [
    "audio=\"audio datasets/chtulu1.wav\"\n",
    "\n",
    "AUDIO_FILE = audio\n",
    "\n",
    "r = sr.Recognizer()\n",
    "def get_transcriptions(AUDIO_FILE):\n",
    "    with sr.AudioFile(AUDIO_FILE) as source:\n",
    "        audio = r.record(source)  # read the entire audio file\n",
    "    # recognize speech using Sphinx\n",
    "    try:\n",
    "        sphinx_output=r.recognize_sphinx(audio)\n",
    "        print(\"Sphinx thinks you said \" + sphinx_output)\n",
    "\n",
    "    except sr.UnknownValueError:\n",
    "\n",
    "        print(\"Sphinx could not understand audio\")\n",
    "\n",
    "    except sr.RequestError as e:\n",
    "\n",
    "        print(\"Sphinx error; {0}\".format(e))\n",
    "    # recognize speech using Google Speech Recognition\n",
    "    try:\n",
    "        # for testing purposes, we're just using the default API key\n",
    "        # to use another API key, use `r.recognize_google(audio, key=\"GOOGLE_SPEECH_RECOGNITION_API_KEY\")`\n",
    "        # instead of `r.recognize_google(audio)`\n",
    "        google_output=r.recognize_google(audio)\n",
    "        print(\"Google Speech Recognition thinks you said \" + google_output)\n",
    "\n",
    "    except sr.UnknownValueError:\n",
    "        print(\"Google Speech Recognition could not understand audio\")\n",
    "    except sr.RequestError as e:\n",
    "        print(\"Could not request results from Google Speech Recognition service; {0}\".format(e))\n",
    "    # recognize speech using Microsoft Bing Voice Recognition\n",
    "    BING_KEY = \"d6a46442f1ee4697a9313423d0f84fff\"  # Microsoft Bing Voice Recognition API keys 32-character lowercase hexadecimal strings\n",
    "    try:\n",
    "        bing_output=r.recognize_bing(audio, key=BING_KEY)\n",
    "        print(\"Microsoft Bing Voice Recognition thinks you said \" +bing_output )\n",
    "    except sr.UnknownValueError:\n",
    "        print(\"Microsoft Bing Voice Recognition could not understand audio\")\n",
    "    except sr.RequestError as e:\n",
    "        print(\"Could not request results from Microsoft Bing Voice Recognition service; {0}\".format(e))\n",
    "    return(sphinx_output,bing_output)"
   ]
  },
  {
   "cell_type": "code",
   "execution_count": null,
   "metadata": {
    "collapsed": false
   },
   "outputs": [],
   "source": [
    "get_transcriptions(AUDIO_FILE)"
   ]
  },
  {
   "cell_type": "code",
   "execution_count": null,
   "metadata": {
    "collapsed": true
   },
   "outputs": [],
   "source": []
  }
 ],
 "metadata": {
  "kernelspec": {
   "display_name": "Python [conda root]",
   "language": "python",
   "name": "conda-root-py"
  },
  "language_info": {
   "codemirror_mode": {
    "name": "ipython",
    "version": 3
   },
   "file_extension": ".py",
   "mimetype": "text/x-python",
   "name": "python",
   "nbconvert_exporter": "python",
   "pygments_lexer": "ipython3",
   "version": "3.5.2"
  }
 },
 "nbformat": 4,
 "nbformat_minor": 1
}
