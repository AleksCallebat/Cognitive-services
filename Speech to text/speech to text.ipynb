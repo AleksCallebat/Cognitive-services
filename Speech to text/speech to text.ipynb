{
 "cells": [
  {
   "cell_type": "markdown",
   "metadata": {},
   "source": [
    "idée : 1. discours d'inauguration politique\n",
    "2. comparer API avec speechrecognition de python\n",
    "3. Cinéma(qui parle le mieux?)\n",
    "4. Quelle bande de musique est la plus imbittable?"
   ]
  },
  {
   "cell_type": "code",
   "execution_count": 8,
   "metadata": {},
   "outputs": [],
   "source": [
    "import speech_recognition as sr\n",
    "import pyaudio\n",
    "import wave\n",
    "import sys\n",
    "from os import path"
   ]
  },
  {
   "cell_type": "code",
   "execution_count": 9,
   "metadata": {},
   "outputs": [],
   "source": [
    "audio=\"audio datasets/test.wav\"\n",
    "\n",
    "AUDIO_FILE = audio\n",
    "\n",
    "r = sr.Recognizer()\n",
    "def get_transcriptions(AUDIO_FILE):\n",
    "    with sr.AudioFile(AUDIO_FILE) as source:\n",
    "        audio = r.record(source)  # read the entire audio file\n",
    "    # recognize speech using Sphinx\n",
    "    try:\n",
    "        sphinx_output=r.recognize_sphinx(audio)\n",
    "        print(\"Sphinx thinks you said \" + sphinx_output)\n",
    "\n",
    "    except sr.UnknownValueError:\n",
    "\n",
    "        print(\"Sphinx could not understand audio\")\n",
    "\n",
    "    except sr.RequestError as e:\n",
    "\n",
    "        print(\"Sphinx error; {0}\".format(e))\n",
    "    # recognize speech using Google Speech Recognition\n",
    "    try:\n",
    "        # for testing purposes, we're just using the default API key\n",
    "        # to use another API key, use `r.recognize_google(audio, key=\"GOOGLE_SPEECH_RECOGNITION_API_KEY\")`\n",
    "        # instead of `r.recognize_google(audio)`\n",
    "        google_output=r.recognize_google(audio)\n",
    "        print(\"Google Speech Recognition thinks you said \" + google_output)\n",
    "\n",
    "    except sr.UnknownValueError:\n",
    "        print(\"Google Speech Recognition could not understand audio\")\n",
    "    except sr.RequestError as e:\n",
    "        print(\"Could not request results from Google Speech Recognition service; {0}\".format(e))\n",
    "    # recognize speech using Microsoft Bing Voice Recognition\n",
    "    BING_KEY = \"d6a46442f1ee4697a9313423d0f84fff\"  # Microsoft Bing Voice Recognition API keys 32-character lowercase hexadecimal strings\n",
    "    try:\n",
    "        bing_output=r.recognize_bing(audio, key=BING_KEY)\n",
    "        print(\"Microsoft Bing Voice Recognition thinks you said \" +bing_output )\n",
    "    except sr.UnknownValueError:\n",
    "        print(\"Microsoft Bing Voice Recognition could not understand audio\")\n",
    "    except sr.RequestError as e:\n",
    "        print(\"Could not request results from Microsoft Bing Voice Recognition service; {0}\".format(e))\n",
    "    return(sphinx_output,bing_output)"
   ]
  },
  {
   "cell_type": "code",
   "execution_count": 10,
   "metadata": {},
   "outputs": [
    {
     "name": "stdout",
     "output_type": "stream",
     "text": [
      "Microsoft Bing Voice Recognition thinks you said Open paren.\n"
     ]
    }
   ],
   "source": [
    "audio=\"audio datasets/lune_court.wav\" \n",
    "r = sr.Recognizer()\n",
    "with sr.AudioFile(audio) as source:\n",
    "    audio = r.record(source)  # read the entire audio file\n",
    "BING_KEY = \"d6a46442f1ee4697a9313423d0f84fff\"  # Microsoft Bing Voice Recognition API keys 32-character lowercase hexadecimal strings\n",
    "\n",
    "try:\n",
    "    bing_output=r.recognize_bing(audio, key=BING_KEY)\n",
    "    print(\"Microsoft Bing Voice Recognition thinks you said \" +bing_output )\n",
    "except sr.UnknownValueError:\n",
    "    print(\"Microsoft Bing Voice Recognition could not understand audio\")\n",
    "except sr.RequestError as e:\n",
    "    print(\"Could not request results from Microsoft Bing Voice Recognition service; {0}\".format(e))"
   ]
  },
  {
   "cell_type": "code",
   "execution_count": 11,
   "metadata": {},
   "outputs": [
    {
     "name": "stdout",
     "output_type": "stream",
     "text": [
      "Sphinx error; missing PocketSphinx module: ensure that PocketSphinx is set up correctly.\n",
      "Google Speech Recognition thinks you said call San Fran\n",
      "Microsoft Bing Voice Recognition thinks you said Open paren.\n"
     ]
    },
    {
     "ename": "UnboundLocalError",
     "evalue": "local variable 'sphinx_output' referenced before assignment",
     "output_type": "error",
     "traceback": [
      "\u001b[1;31m---------------------------------------------------------------------------\u001b[0m",
      "\u001b[1;31mUnboundLocalError\u001b[0m                         Traceback (most recent call last)",
      "\u001b[1;32m<ipython-input-11-edace169c362>\u001b[0m in \u001b[0;36m<module>\u001b[1;34m()\u001b[0m\n\u001b[0;32m      1\u001b[0m \u001b[0maudio\u001b[0m\u001b[1;33m=\u001b[0m\u001b[1;34m\"audio datasets/lune_court.wav\"\u001b[0m\u001b[1;33m\u001b[0m\u001b[0m\n\u001b[0;32m      2\u001b[0m \u001b[1;33m\u001b[0m\u001b[0m\n\u001b[1;32m----> 3\u001b[1;33m \u001b[0mget_transcriptions\u001b[0m\u001b[1;33m(\u001b[0m\u001b[0maudio\u001b[0m\u001b[1;33m)\u001b[0m\u001b[1;33m\u001b[0m\u001b[0m\n\u001b[0m",
      "\u001b[1;32m<ipython-input-9-8f8cf565256a>\u001b[0m in \u001b[0;36mget_transcriptions\u001b[1;34m(AUDIO_FILE)\u001b[0m\n\u001b[0;32m     40\u001b[0m     \u001b[1;32mexcept\u001b[0m \u001b[0msr\u001b[0m\u001b[1;33m.\u001b[0m\u001b[0mRequestError\u001b[0m \u001b[1;32mas\u001b[0m \u001b[0me\u001b[0m\u001b[1;33m:\u001b[0m\u001b[1;33m\u001b[0m\u001b[0m\n\u001b[0;32m     41\u001b[0m         \u001b[0mprint\u001b[0m\u001b[1;33m(\u001b[0m\u001b[1;34m\"Could not request results from Microsoft Bing Voice Recognition service; {0}\"\u001b[0m\u001b[1;33m.\u001b[0m\u001b[0mformat\u001b[0m\u001b[1;33m(\u001b[0m\u001b[0me\u001b[0m\u001b[1;33m)\u001b[0m\u001b[1;33m)\u001b[0m\u001b[1;33m\u001b[0m\u001b[0m\n\u001b[1;32m---> 42\u001b[1;33m     \u001b[1;32mreturn\u001b[0m\u001b[1;33m(\u001b[0m\u001b[0msphinx_output\u001b[0m\u001b[1;33m,\u001b[0m\u001b[0mbing_output\u001b[0m\u001b[1;33m)\u001b[0m\u001b[1;33m\u001b[0m\u001b[0m\n\u001b[0m",
      "\u001b[1;31mUnboundLocalError\u001b[0m: local variable 'sphinx_output' referenced before assignment"
     ]
    }
   ],
   "source": [
    "audio=\"audio datasets/lune_court.wav\" \n",
    "\n",
    "get_transcriptions(audio)"
   ]
  },
  {
   "cell_type": "code",
   "execution_count": null,
   "metadata": {
    "scrolled": true
   },
   "outputs": [],
   "source": [
    "get_transcriptions(\"audio datasets/france.wav\")"
   ]
  },
  {
   "cell_type": "code",
   "execution_count": null,
   "metadata": {
    "collapsed": true
   },
   "outputs": [],
   "source": []
  }
 ],
 "metadata": {
  "kernelspec": {
   "display_name": "Python 3",
   "language": "python",
   "name": "python3"
  }
 },
 "nbformat": 4,
 "nbformat_minor": 1
}
