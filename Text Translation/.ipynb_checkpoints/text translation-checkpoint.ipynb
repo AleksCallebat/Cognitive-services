{
 "cells": [
  {
   "cell_type": "code",
   "execution_count": 1,
   "metadata": {},
   "outputs": [],
   "source": [
    "APIKey=\"8dc97e03193b4674b160cfe2b07c8223\""
   ]
  },
  {
   "cell_type": "code",
   "execution_count": 2,
   "metadata": {},
   "outputs": [],
   "source": [
    "try :\n",
    "    from mstranslator import Translator\n",
    "except:    \n",
    "    !pip install mstranslator\n",
    "    from mstranslator import Translator\n"
   ]
  },
  {
   "cell_type": "code",
   "execution_count": 3,
   "metadata": {},
   "outputs": [],
   "source": [
    "translator = Translator(\"8dc97e03193b4674b160cfe2b07c8223\")\n",
    "\n",
    "def similar(a, b):\n",
    "    return SequenceMatcher(None, a, b).ratio()"
   ]
  },
  {
   "cell_type": "code",
   "execution_count": 6,
   "metadata": {},
   "outputs": [
    {
     "name": "stdout",
     "output_type": "stream",
     "text": [
      "Hello, world :) \n"
     ]
    }
   ],
   "source": [
    "print(translator.translate('comment trouver de la motivation', lang_from='fr', lang_to='en'))"
   ]
  },
  {
   "cell_type": "code",
   "execution_count": 24,
   "metadata": {},
   "outputs": [],
   "source": [
    "from difflib import SequenceMatcher\n",
    "import matplotlib.pyplot as plt\n",
    "\n",
    "sentence=\"comment trouver de la motivation\""
   ]
  },
  {
   "cell_type": "code",
   "execution_count": 25,
   "metadata": {},
   "outputs": [],
   "source": [
    "languages={\"af\":\"Afrikaans\",\"ar\":\"Arabic\",\"bs-Latn\":\"Bosnian (Latin)\",\"bg\":\"Bulgarian\",\"ca\":\"Catalan\",\"zh-CHS\":\"Chinese Simplified\",\"zh-CHT\":\"Chinese Traditional\",\"hr\":\"Croatian\",\"cs\":\"Czech\",\"da\":\"Danish\",\"nl\":\"Dutch\",\"en\":\"English\",\"et\":\"Estonian\",\"fi\":\"Finnish\",\"fr\":\"French\",\"de\":\"German\",\"el\":\"Greek\",\"ht\":\"Haitian Creole\",\"he\":\"Hebrew\",\"hi\":\"Hindi\",\"mww\":\"Hmong Daw\",\"hu\":\"Hungarian\",\"id\":\"Indonesian\",\"it\":\"Italian\",\"ja\":\"Japanese\",\"sw\":\"Kiswahili\",\"tlh\":\"Klingon\",\"tlh-Qaak\":\"Klingon (pIqaD)\",\"ko\":\"Korean\",\"lv\":\"Latvian\",\"lt\":\"Lithuanian\",\"ms\":\"Malay\",\"mt\":\"Maltese\",\"no\":\"Norwegian\",\"fa\":\"Persian\",\"pl\":\"Polish\",\"pt\":\"Portuguese\",\"otq\":\"Querétaro Otomi\",\"ro\":\"Romanian\",\"ru\":\"Russian\",\"sr-Cyrl\":\"Serbian (Cyrillic)\",\"sr-Latn\":\"Serbian (Latin)\",\"sk\":\"Slovak\",\"sl\":\"Slovenian\",\"es\":\"Spanish\",\"sv\":\"Swedish\",\"th\":\"Thai\",\"tr\":\"Turkish\",\"uk\":\"Ukrainian\",\"ur\":\"Urdu\",\"vi\":\"Vietnamese\",\"cy\":\"Welsh\",\"yua\":\"Yucatec Maya\"}"
   ]
  },
  {
   "cell_type": "code",
   "execution_count": 26,
   "metadata": {},
   "outputs": [
    {
     "name": "stdout",
     "output_type": "stream",
     "text": [
      "dict_keys(['af', 'ar', 'bs-Latn', 'bg', 'ca', 'zh-CHS', 'zh-CHT', 'hr', 'cs', 'da', 'nl', 'en', 'et', 'fi', 'fr', 'de', 'el', 'ht', 'he', 'hi', 'mww', 'hu', 'id', 'it', 'ja', 'sw', 'tlh', 'tlh-Qaak', 'ko', 'lv', 'lt', 'ms', 'mt', 'no', 'fa', 'pl', 'pt', 'otq', 'ro', 'ru', 'sr-Cyrl', 'sr-Latn', 'sk', 'sl', 'es', 'sv', 'th', 'tr', 'uk', 'ur', 'vi', 'cy', 'yua'])\n"
     ]
    }
   ],
   "source": [
    "print(languages.keys())"
   ]
  },
  {
   "cell_type": "code",
   "execution_count": 27,
   "metadata": {},
   "outputs": [
    {
     "name": "stdout",
     "output_type": "stream",
     "text": [
      "comments faith far de la motivation    error made in  Afrikaans\n",
      "motivation of the comment trouver    error made in  Catalan\n",
      "Comment on the motives of trouver    error made in  Chinese Simplified\n",
      "Comment on the motives of trouver    error made in  Chinese Traditional\n",
      "motivation of comment find Delcourt    error made in  French\n",
      "comment de la motivation    error made in  Greek\n",
      "comment find de la motivation    error made in  Haitian Creole\n",
      "Comment Trouver de la inspiration    error made in  Hindi\n",
      "see trouver la five Ray.    error made in  Hmong Daw\n",
      "comment trouver device in la    error made in  Klingon\n",
      "the device of the la trouver chomment    error made in  Klingon (pIqaD)\n",
      "motivation de la trouver comment    error made in  Portuguese\n",
      "comment trouver motivation    error made in  Querétaro Otomi\n",
      "Comment find partners at motivation    error made in  Romanian\n",
      "motivation of the comment trouver    error made in  Spanish\n",
      "comment trou Bautista de la motivation    error made in  Turkish\n",
      "Comment de la motivation troorr    error made in  Urdu\n",
      "Comment להורדה de la motivation    error made in  Vietnamese\n",
      "comment trouver motivation    error made in  Yucatec Maya\n",
      "accuracy 0.6415094339622642\n"
     ]
    }
   ],
   "source": [
    "count=0.\n",
    "some_languages={\"en\",\"fr\",\"de\",\"es\",\"zh-CHS\"}\n",
    "#for language in some_languages:\n",
    "for language in languages.keys():\n",
    "    traduction=translator.translate(sentence,lang_from=\"en\",lang_to=language)\n",
    "    retrad=translator.translate(traduction,lang_from=language,lang_to=\"en\")\n",
    "    \n",
    "    if similar(retrad,sentence)<0.9:\n",
    "        count+=1\n",
    "        print(retrad, \"   error made in \",languages[language])\n",
    "        \n",
    "print(\"accuracy\",1-count/len(languages.keys()))"
   ]
  },
  {
   "cell_type": "code",
   "execution_count": 9,
   "metadata": {},
   "outputs": [
    {
     "name": "stdout",
     "output_type": "stream",
     "text": [
      "0.12096774193548387\n",
      "0.15418502202643172\n"
     ]
    }
   ],
   "source": [
    "retrad=\"\"\n",
    "stab=0\n",
    "for k in range(5):\n",
    "    trad=translator.translate(retrad,lang_from=\"en\",lang_to=\"fr\")\n",
    "    temp=retrad\n",
    "    retrad=translator.translate(trad,lang_from=\"fr\",lang_to=\"en\")\n",
    "    if temp!=retrad:\n",
    "        stab+=1\n",
    "print(similar(\"To be or not to be the question: whether it is more noble in the spirit of the suffering of the fronds and arrows of scandalous fortune, or of taking up arms against a sea of ​​troubles, Opposing their end: Not sleep more; And by a sleep, to say that we finish the evil to the heart and the thousands of natural shocks to which the flesh is the heiress? It is a desirable consumption. To die, to sleep, to sleep, perhaps to dream; Yes, there is a friction,\",sentence))\n",
    "print(similar(sentence,\"Be, or not to be, that is the question: whether ' tis nobler in the mind to suffer the slings and arrows of outrageous fortune, or to take arms against a sea of troubles and by opposing end: die, to the sleepNo; by a sleep to say we end the cardiac stomach and the natural shocksthat thousand flesh is the heir? ' Tis a consumption devoutly to be hoped. Die, sleep, sleep, perchance to Dream; Yes, there's the rub.\"))"
   ]
  },
  {
   "cell_type": "markdown",
   "metadata": {},
   "source": [
    "<b> google </b> To be or not to be the question: whether it is more noble in the spirit of the suffering of the fronds and arrows of scandalous fortune, or of taking up arms against a sea of ​​troubles, Opposing their end: Not sleep more; And by a sleep, to say that we finish the evil to the heart and the thousands of natural shocks to which the flesh is the heiress? It is a desirable consumption. To die, to sleep, to sleep, perhaps to dream; Yes, there is a friction,\n",
    "\n",
    "<b> MS </b> Be, or not to be, that is the question: whether ' tis nobler in the mind to suffer the slings and arrows of outrageous fortune, or to take arms against a sea of troubles and by opposing end: die, to the sleepNo; by a sleep to say we end the cardiac stomach and the natural shocksthat thousand flesh is the heir? ' Tis a consumption devoutly to be hoped. Die, sleep, sleep, perchance to Dream; Yes, there's the rub."
   ]
  },
  {
   "cell_type": "code",
   "execution_count": 15,
   "metadata": {},
   "outputs": [],
   "source": [
    "sentence2=\"Un soleil rouge se lève. Beaucoup de sang a dû couler cette nuit.\"\n",
    "temp=sentence2\n",
    "sentence3=sentence2"
   ]
  },
  {
   "cell_type": "code",
   "execution_count": 16,
   "metadata": {
    "scrolled": true
   },
   "outputs": [
    {
     "name": "stdout",
     "output_type": "stream",
     "text": [
      "Un rouge soleil se lève. Beaucoup de débit sanguin cette nuit-là.\n",
      "Le rouge est un soleil levant. Il y a beaucoup de circulation sanguine cette nuit-là.\n",
      "Le rouge est le lever du soleil. Il y a beaucoup de circulation sanguine cette nuit-là.\n",
      "Le rouge est le lever du soleil. Il y a beaucoup de sang pendant la nuit.\n",
      "Rouge est le lever du soleil. il y a beaucoup de sang pendant la nuit.\n",
      "Le rouge est le lever du soleil. Il y a beaucoup de circulation sanguine pendant la nuit.\n",
      "Le rouge est le lever du soleil. Il y a beaucoup de circulation sanguine pendant la nuit.\n",
      "Aube rouge. Il y a beaucoup de sang pendant la nuit.\n",
      "Aube rouge. La nuit est beaucoup de sang.\n",
      "Aube rouge. La nuit est beaucoup de sang.\n",
      "Aube rouge. La nuit est beaucoup de sang.\n",
      "Aube rouge. La nuit est beaucoup de sang.\n",
      "Un matin brumeux. La nuit est beaucoup de sang.\n",
      "Un matin brumeux. La nuit est beaucoup de sang.\n",
      "Un matin brumeux. La nuit est beaucoup de sang.\n",
      "Un matin de brouya. Nuit. y a beaucoup de sang.\n",
      "Brouya matin. La nuit. Il y a beaucoup de sang.\n",
      "Brouya matin. Temps de nuit. Il y a beaucoup de sang là.\n",
      "Brouya le matin. Au cours de la nuit. Il y avait beaucoup de sang.\n",
      "Brouya le matin. La nuit. Il y avait beaucoup de sang.\n",
      "Brouya le matin. Dans la soirée. Il y avait beaucoup de sang.\n",
      "Brouya le matin. Dans la soirée. Il y avait beaucoup de sang.\n",
      "C’est un matin de Brouya. Dans la soirée. Avait beaucoup de sang.\n",
      "C’est le matin de le Brouya. Au cours de la soirée. Il avait beaucoup de sang.\n",
      "brouya le matin. au cours de la nuit. La valeur du sang ont la.\n",
      "brouya dans la matinée. la valeur du sang : durant une licence.\n",
      "Brouya le matin. La valeur du sang : alors que l’autorisation.\n",
      "Brouy matin. Valeurs de sang : aussi longtemps que le jeu d’autorisations.\n",
      "Brouy matin. Valeurs de sang : aussi longtemps que le jeu d’autorisations.\n",
      "Brouy matin. Valeurs de sang : aussi longtemps que la vérité.\n",
      "Brouy suis. Valeurs de sang : dans la mesure où vérité.\n",
      "Brouy est. Valeurs de sang : dans la mesure où vérité.\n",
      "Brouy. La valeur du sang : c’est la vérité.\n",
      "Brouy. La valeur du sang : c’est vrai.\n",
      "Brouy. La valeur du sang : c’est vrai.\n",
      "Brouy. La valeur du sang : c’est vrai.\n",
      "Brouy. La valeur du sang : c’est vrai.\n",
      "Brouy. Valeur du sang : c’est vrai.\n",
      "Brouy. La valeur du sang : c’est vrai.\n",
      "Brouy. La valeur du sang : c’est vrai.\n",
      "Brouy. La valeur du sang : c’est vrai.\n",
      "Brouy. La valeur du sang : c’est vrai.\n",
      "Brouy. La valeur du sang : c’est vrai.\n",
      "Brouy. La valeur du sang : c’est vrai.\n",
      "Brouy est une réelle valeur de sang : cela.\n",
      "Brouy est une réelle valeur de sang : cela.\n",
      "Brouy est un vrai coût de sang : il s’agit.\n",
      "Beroi est un prix de sang véritable : c’est.\n",
      "Beroi est un prix de sang véritable : c’est.\n",
      "Beroi est le prix du sang réel : c’est.\n",
      "Le prix du sang Beroi Royal : le.\n",
      "Le prix du sang Royal : le Beroi.\n",
      "Prix du sang Royal : péruvien.\n",
      "Prix de la royauté : le péruvien.\n",
      "Prix de la royauté : Pérou.\n",
      "Prix pour la reproduction : Pérou.\n",
      "Prix d’élevage : Pérou.\n",
      "Prix d’élevage : Pérou.\n",
      "Prix croissant : Pérou.\n",
      "Prix croissant : Pérou.\n",
      "Hausse des prix : Pérou.\n",
      "Hausse des prix : Pérou.\n",
      "Hausse des prix : Pérou.\n",
      "La hausse du prix : Pérou.\n",
      "La hausse des prix : Pérou.\n",
      "La hausse des prix : Pérou.\n",
      "L’augmentation des coûts pour eux, Pérou.\n",
      "Augmentation des coûts pour eux, Pérou.\n",
      "Augmenter les coûts pour eux, Pérou.\n",
      "Prix pour eux, Pérou.\n",
      "Les prix pour eux, Pérou.\n",
      "Leurs prix, Pérou.\n",
      "Leurs prix, Pérou.\n",
      "Le prix est le Pérou.\n",
      "Le prix est le Pérou.\n",
      "partie du Pérou.\n",
      "partie du Pérou.\n",
      "Le Pérou est partie.\n",
      "Le Pérou est partie.\n",
      "Le Pérou est partie de la.\n",
      "Le Pérou est partie de cela.\n",
      "Le Pérou est partie de cela.\n",
      "Le Pérou est une partie de cela.\n",
      "Le Pérou est partie de cela.\n",
      "Le Pérou est partie de celui-ci.\n",
      "Le Pérou est partie de celui-ci.\n",
      "Le Pérou fait partie de la famille.\n",
      "Le Pérou est partie de la famille.\n",
      "Le Pérou est partie de la famille.\n",
      "Le Pérou est partie de la famille.\n",
      "Le Pérou est partie de la famille.\n",
      "Le Pérou est partie de la famille.\n",
      "Le Pérou est partie de la famille.\n",
      "Le Pérou fait partie de la famille.\n",
      "Le Pérou est partie de la famille.\n",
      "Le Pérou est partie de la famille.\n",
      "Le Pérou est partie de la famille.\n",
      "Le Pérou est partie de la famille.\n",
      "Le Pérou est partie de la famille.\n",
      "Le Pérou est une partie de la famille.\n",
      "Le Pérou est partie de la famille.\n",
      "Le Pérou est la famille.\n"
     ]
    }
   ],
   "source": [
    "\n",
    "lan=\"fr\"\n",
    "ecart=[]\n",
    "for language in languages.keys():\n",
    "    sentence2=translator.translate(sentence2,lang_from=lan,lang_to=language)\n",
    "    lan=language\n",
    "    ecart.append(similar(translator.translate(sentence2,lang_from=lan,lang_to=\"fr\"),sentence3))\n",
    "    if similar(temp,translator.translate(sentence2,lang_from=lan,lang_to=\"fr\"))<0.9:\n",
    "        print(translator.translate(sentence2,lang_from=lan,lang_to=\"fr\"))\n",
    "        temp=sentence2\n",
    "for language in languages.keys():\n",
    "    sentence2=translator.translate(sentence2,lang_from=lan,lang_to=language)\n",
    "    lan=language\n",
    "    ecart.append(similar(translator.translate(sentence2,lang_from=lan,lang_to=\"fr\"),sentence3))\n",
    "    if similar(temp,translator.translate(sentence2,lang_from=lan,lang_to=\"fr\"))<0.9:\n",
    "        print(translator.translate(sentence2,lang_from=lan,lang_to=\"fr\"))\n",
    "        temp=sentence2"
   ]
  },
  {
   "cell_type": "code",
   "execution_count": 17,
   "metadata": {},
   "outputs": [
    {
     "data": {
      "image/png": "[encoded data removed]",
      "text/plain": [
       "<matplotlib.figure.Figure at 0x223f74ffeb8>"
      ]
     },
     "metadata": {},
     "output_type": "display_data"
    }
   ],
   "source": [
    "plt.plot(ecart)\n",
    "plt.show()"
   ]
  },
  {
   "cell_type": "code",
   "execution_count": 18,
   "metadata": {},
   "outputs": [],
   "source": [
    "langagues_core={\"en\":\"English\",\"fr\":\"French\",\"ru\":\"russian\",\"es\":\"spanish\",\"de\":\"German\"}"
   ]
  },
  {
   "cell_type": "code",
   "execution_count": 20,
   "metadata": {},
   "outputs": [
    {
     "name": "stdout",
     "output_type": "stream",
     "text": [
      "Un soleil rouge se lève. Beaucoup de sang a dû couler cette nuit.\n"
     ]
    },
    {
     "data": {
      "image/png": "[encoded data removed]",
      "text/plain": [
       "<matplotlib.figure.Figure at 0x223f7e33518>"
      ]
     },
     "metadata": {},
     "output_type": "display_data"
    }
   ],
   "source": [
    "sentence2=\"Un soleil rouge se lève. Beaucoup de sang a dû couler cette nuit.\"\n",
    "temp=sentence2\n",
    "sentence3=sentence2\n",
    "lan=\"fr\"\n",
    "ecart=[]\n",
    "for k in range(10):\n",
    "    for language in langagues_core.keys():\n",
    "            sentence2=translator.translate(sentence2,lang_from=lan,lang_to=language)\n",
    "            lan=language\n",
    "            ecart.append(similar(translator.translate(sentence2,lang_from=lan,lang_to=\"fr\"),sentence3))\n",
    "          #  print(translator.translate(sentence2,lang_from=lan,lang_to=\"fr\"))\n",
    "\n",
    "            if similar(temp,translator.translate(sentence2,lang_from=lan,lang_to=\"fr\"))<0.9:\n",
    "                temp=sentence2\n",
    "                \n",
    "print(sentence3)\n",
    "plt.plot(ecart)\n",
    "plt.show()"
   ]
  },
  {
   "cell_type": "code",
   "execution_count": 15,
   "metadata": {
    "collapsed": true
   },
   "outputs": [],
   "source": [
    "lyrics=\"Moi je suis Rascar Capac et je t'attaque avec mon Mac La vie une chausse-trappe Pas de quartier quand les lyrics frappent Mon sourire te glace Comme un clic-clac qui grince Le voilà qui revient, mince ! Tous les mardis pour te serrer la pince Donne moi le courage D'aller bouffer tous les nuages Écoute mon cœur Écoute la rage Écoute ce texte anthropophage Écoute ce mec qui vote réac' Écoute cette mère seule qui craque Écoute le cri des animaux Quand on les enfouit dans un sac Le crew revient fier Tapi dans l'ombre pendant des millénaires Ses poumons t'éclairent Comme l'EDF ou le nucléaire Alors ferme ta gueule Les Argémiones marchent seuls Pas de meuf pas de taff pas de bouffe C'est bien casse-gueule Je me calmerai jamais J'en ai trop gros sur la patate Je coupe les pattes, t'épate, encore donner des coups de savate Et c'est l'hypocrisie totale Peu d'espoir que ça dérange Et c'est l'apathie générale Peu d'espoir que les gens changent mais...\""
   ]
  },
  {
   "cell_type": "code",
   "execution_count": 16,
   "metadata": {},
   "outputs": [
    {
     "name": "stdout",
     "output_type": "stream",
     "text": [
      "КРАСНОЕ СОЛНЦЕ. ЦИРКУЛЯЦИЮ НОЧЬ В КРОВИ КАК.\n"
     ]
    }
   ],
   "source": [
    "print(translator.translate(sentence2,lang_from=\"es\",lang_to=\"fr\"))"
   ]
  },
  {
   "cell_type": "code",
   "execution_count": 22,
   "metadata": {},
   "outputs": [
    {
     "name": "stdout",
     "output_type": "stream",
     "text": [
      "Le soleil rouge se lève. Beaucoup de sang qui coule de cette nuit-là.\n"
     ]
    }
   ],
   "source": [
    "print(translator.translate(sentence2,lang_from=\"de\",lang_to=\"fr\"))"
   ]
  },
  {
   "cell_type": "code",
   "execution_count": null,
   "metadata": {},
   "outputs": [],
   "source": []
  }
 ],
 "metadata": {
  "anaconda-cloud": {},
  "kernelspec": {
   "display_name": "Python 3",
   "language": "python",
   "name": "python3"
  },
  "language_info": {
   "codemirror_mode": {
    "name": "ipython",
    "version": 3
   },
   "file_extension": ".py",
   "mimetype": "text/x-python",
   "name": "python",
   "nbconvert_exporter": "python",
   "pygments_lexer": "ipython3",
   "version": "3.6.4"
  }
 },
 "nbformat": 4,
 "nbformat_minor": 1
}
