{
 "cells": [
  {
   "cell_type": "markdown",
   "metadata": {},
   "source": [
    "<big><big><big><b>How happy is the hero?</b></big></big></big>"
   ]
  },
  {
   "cell_type": "markdown",
   "metadata": {},
   "source": [
    "Was the empire really evil? Is it really that bad to be on the dark side of the force? Who was the most negative person in star wars? To find it, let's use the text Analysis API on the star wars script to analyse the sentiment of each character"
   ]
  },
  {
   "cell_type": "markdown",
   "metadata": {},
   "source": [
    "First thing needed, an API key for a cognitive service "
   ]
  },
  {
   "cell_type": "code",
   "execution_count": 1,
   "metadata": {
    "collapsed": false
   },
   "outputs": [],
   "source": [
    "API_KEY=\"ac5dc0a7c83c4383a5a13eed465af105\""
   ]
  },
  {
   "cell_type": "code",
   "execution_count": 2,
   "metadata": {
    "collapsed": false
   },
   "outputs": [],
   "source": [
    "import pandas as pd\n",
    "import http.client, urllib.request, urllib.parse, urllib.error, base64\n",
    "import codecs\n",
    "import urllib.request\n",
    "import io\n",
    "import ast\n",
    "import numpy as np\n",
    "import re\n",
    "import matplotlib.pyplot as plt"
   ]
  },
  {
   "cell_type": "markdown",
   "metadata": {},
   "source": [
    "Let's then get the script from the internet and clean it a tiny bit"
   ]
  },
  {
   "cell_type": "code",
   "execution_count": 3,
   "metadata": {
    "collapsed": false
   },
   "outputs": [],
   "source": [
    "url=\"http://www.imsdb.com/scripts/Star-Wars-A-New-Hope.html\"\n",
    "u = urllib.request.urlopen(url, data = None)\n",
    "f = io.TextIOWrapper(u,encoding='utf-8')\n",
    "text = f.read()\n"
   ]
  },
  {
   "cell_type": "markdown",
   "metadata": {},
   "source": [
    "Here we go.\n",
    "\n",
    "In a first time, let's just take the five main characters of the movie : LEIA, LUKE, THREEPIO, VADER, and HAN"
   ]
  },
  {
   "cell_type": "code",
   "execution_count": 4,
   "metadata": {
    "collapsed": false
   },
   "outputs": [],
   "source": [
    "script=text.split(\"scrtext\")[1]\n",
    "script=script.replace(\"\\n\",\"\").split(\"<b>\")\n",
    "\n",
    "characters=[\"THREEPIO\",\"LUKE\",\"VADER\",\"HAN\",\"LEIA\",\"BEN\"]\n",
    "\n",
    "def sort_by_characters(characters,script):\n",
    "    interventions={character:[] for character in characters}\n",
    "    for k in script:\n",
    "        for character in characters:\n",
    "            if character in k:\n",
    "                intervention=k.split(\"</b>\")[1]\n",
    "                for k in range(30):\n",
    "                    intervention=intervention.replace(\"  \",\" \")\n",
    "                for phrase in intervention.split(\".\"):\n",
    "                    if phrase!=\"\":\n",
    "                        interventions[character].append(phrase)\n",
    "                break\n",
    "    return interventions\n",
    "\n",
    "interventions=sort_by_characters(characters,script)"
   ]
  },
  {
   "cell_type": "code",
   "execution_count": 5,
   "metadata": {
    "collapsed": false
   },
   "outputs": [
    {
     "name": "stdout",
     "output_type": "stream",
     "text": [
      "THREEPIO 275\n",
      "LUKE 547\n",
      "VADER 114\n",
      "HAN 333\n",
      "LEIA 125\n",
      "BEN 209\n"
     ]
    }
   ],
   "source": [
    "for character in characters:\n",
    "    print(character,len(interventions[character]))"
   ]
  },
  {
   "cell_type": "markdown",
   "metadata": {},
   "source": [
    "So as you can see, there are a few minorities which are not given the same amount of attention (aka the women and the guy in black)\n",
    "\n",
    "Let's start analysing those interventions with the sentiment analysis. It's quite demanding : at least 20 lines to do it!\n"
   ]
  },
  {
   "cell_type": "code",
   "execution_count": 6,
   "metadata": {
    "collapsed": false
   },
   "outputs": [],
   "source": [
    "#let's do the same for Luke, leia etc\n",
    "def get_data(PERSO,param='sentiment'):\n",
    "    body={\n",
    "      \"documents\": [\n",
    "        {\n",
    "          \"id\": str(k),\n",
    "          \"text\": PERSO[k]\n",
    "        } for k in range(len(PERSO)) if (len(PERSO[k].split(\" \"))>0 and (not PERSO[k].isspace()))]\n",
    "\n",
    "    }\n",
    "    headers = {\n",
    "    # Request headers\n",
    "    'Content-Type': 'text/json',\n",
    "    'Ocp-Apim-Subscription-Key': API_KEY,\n",
    "    }\n",
    "\n",
    "    params = urllib.parse.urlencode({\n",
    "    })\n",
    "\n",
    "\n",
    "    try:\n",
    "        conn = http.client.HTTPSConnection('westus.api.cognitive.microsoft.com')\n",
    "        conn.request(\"POST\", \"/text/analytics/v2.0/\"+param+\"?%s\" % params, str(body), headers)\n",
    "        response = conn.getresponse()\n",
    "        data = response.read()\n",
    "        conn.close()\n",
    "    except Exception as e:\n",
    "        print(\"[Errno {0}] {1}\".format(e.errno, e.strerror))\n",
    "    return data\n",
    "    \n",
    "datas={character:get_data(interventions[character]) for character in characters}"
   ]
  },
  {
   "cell_type": "code",
   "execution_count": 7,
   "metadata": {
    "collapsed": false
   },
   "outputs": [
    {
     "name": "stdout",
     "output_type": "stream",
     "text": [
      "THREEPIO 274 0.439333174956\n",
      "LUKE 546 0.449067249701\n",
      "VADER 114 0.44954121026\n",
      "HAN 332 0.488337820785\n",
      "LEIA 125 0.523987205675\n",
      "BEN 209 0.51085961598\n"
     ]
    }
   ],
   "source": [
    "#let's get the list of the scores out of this\n",
    "def read_data(data):\n",
    "    scores=[]\n",
    "    data=(ast.literal_eval(str(data)[2:(len(data)+2)]))\n",
    "    for sentence in data[\"documents\"]:\n",
    "        scores.append(sentence[\"score\"])\n",
    "    return scores\n",
    "\n",
    "scores={character:read_data(datas[character]) for character in characters}\n",
    "for character in characters:\n",
    "    print(character,len(scores[character]),np.mean(scores[character]))"
   ]
  },
  {
   "cell_type": "markdown",
   "metadata": {
    "collapsed": true
   },
   "source": [
    "The empire strikes back"
   ]
  },
  {
   "cell_type": "code",
   "execution_count": 8,
   "metadata": {
    "collapsed": false
   },
   "outputs": [
    {
     "name": "stdout",
     "output_type": "stream",
     "text": [
      "THREEPIO 149 0.460536567977\n",
      "LUKE 184 0.474281748091\n",
      "VADER 128 0.464701332704\n",
      "HAN 231 0.498456273504\n",
      "LEIA 115 0.464822188009\n"
     ]
    }
   ],
   "source": [
    "url=\"http://www.imsdb.com/scripts/Star-Wars-The-Empire-Strikes-Back.html\"\n",
    "u = urllib.request.urlopen(url, data = None)\n",
    "f = io.TextIOWrapper(u,encoding='utf-8')\n",
    "text = f.read()\n",
    "script=text.split(\"scrtext\")[1]\n",
    "script=script.replace(\"\\n\",\"\").split(\"<b>\")\n",
    "characters=[\"THREEPIO\",\"LUKE\",\"VADER\",\"HAN\",\"LEIA\"]\n",
    "interventions=sort_by_characters(characters,script)\n",
    "datas={character : get_data(interventions[character]) for character in characters}\n",
    "scores={character : [k for k in read_data(datas[character]) if k!=0.5] for character in characters}\n",
    "for character in characters:\n",
    "    print(character,len(scores[character]),np.mean(scores[character]))"
   ]
  },
  {
   "cell_type": "code",
   "execution_count": 9,
   "metadata": {
    "collapsed": false
   },
   "outputs": [
    {
     "name": "stdout",
     "output_type": "stream",
     "text": [
      "FINN 176 0.398892862494\n",
      "REY 179 0.397775511858\n",
      "HAN 157 0.489784404579\n",
      "KYLO REN 66 0.332601302886\n"
     ]
    }
   ],
   "source": [
    "url=\"http://www.imsdb.com/scripts/Star-Wars-The-Force-Awakens.html\"\n",
    "u = urllib.request.urlopen(url, data = None)\n",
    "f = io.TextIOWrapper(u,encoding='utf-8')\n",
    "text = f.read()\n",
    "script=text.split(\"scrtext\")[1]\n",
    "script=script.replace(\"\\n\",\"\").split(\"<b>\")\n",
    "characters=[\"FINN\",\"REY\",\"HAN\",\"KYLO REN\"]\n",
    "interventions=sort_by_characters(characters,script)\n",
    "datas={character : get_data(interventions[character]) for character in characters}\n",
    "scores={character : [k for k in read_data(datas[character]) if k!=0.5] for character in characters}\n",
    "for character in characters:\n",
    "    print(character,len(scores[character]),np.mean(scores[character]))"
   ]
  },
  {
   "cell_type": "code",
   "execution_count": 10,
   "metadata": {
    "collapsed": false
   },
   "outputs": [
    {
     "name": "stdout",
     "output_type": "stream",
     "text": [
      "WILLARD 382 0.450189372273\n",
      "KILGORE 90 0.462379933467\n",
      "GASTON 38 0.478055685033\n",
      "CHIEF 46 0.378249244566\n",
      "LANCE 48 0.575057247484\n",
      "KURTZ 103 0.401171667407\n"
     ]
    }
   ],
   "source": [
    "url=\"http://www.imsdb.com/scripts/Apocalypse-Now.html\"\n",
    "u = urllib.request.urlopen(url, data = None)\n",
    "f = io.TextIOWrapper(u,encoding='utf-8',errors='ignore')\n",
    "text = f.read()\n",
    "script=text.split(\"scrtext\")[1]\n",
    "script=script.replace(\"\\n\",\"\").split(\"<b>\")\n",
    "characters=[\"WILLARD\",\"KILGORE\",\"GASTON\",\"CHIEF\",\"LANCE\",\"KURTZ\"]\n",
    "interventions=sort_by_characters(characters,script)\n",
    "datas={character : get_data(interventions[character]) for character in characters}\n",
    "scores={character : [k for k in read_data(datas[character]) if k!=0.5] for character in characters}\n",
    "for character in characters:\n",
    "    print(character,len(scores[character]),np.mean(scores[character]))"
   ]
  },
  {
   "cell_type": "code",
   "execution_count": 11,
   "metadata": {
    "collapsed": false
   },
   "outputs": [
    {
     "name": "stdout",
     "output_type": "stream",
     "text": [
      "b'{\"documents\":[{\"keyPhrases\":[\"men\",\"dock\"],\"id\":\"0\"},{\"keyPhrases\":[\"PHILIPPE\",\"face\",\"left eye\",\"young man\",\"scar\",\"patch\"],\"id\":\"1\"},{\"keyPhrases\":[\"red beret\",\"French colonial para- troops\",\"tiger suit\"],\"id\":\"2\"},{\"keyPhrases\":[\"bear- ded\",\"HENRY LeFEVRE\",\"middle- aged half-breed slave\",\"TRAN VAN KAC\",\"dark-looking man\",\"red beret\"],\"id\":\"3\"},{\"keyPhrases\":[\"eyes\",\"automatic weapons\"],\"id\":\"4\"},{\"keyPhrases\":[\"group\",\"MARAIS\",\"head man\",\"dock\",\"deli- cate\",\"GASTON\",\"Frenchman\",\"strength\"],\"id\":\"5\"},{\"keyPhrases\":[\"commanding officer\"],\"id\":\"6\"},{\"keyPhrases\":[\"Kac\",\"Philippe moves\",\"position\",\"deck\",\"rope\"],\"id\":\"7\"},{\"keyPhrases\":[\"calibers\",\"Captain\"],\"id\":\"8\"},{\"keyPhrases\":[\"Captain\"],\"id\":\"9\"},{\"keyPhrases\":[\"gun\"],\"id\":\"10\"},{\"keyPhrases\":[\"common enemy\",\"guests\"],\"id\":\"11\"},{\"keyPhrases\":[\"marais\",\"Gaston\",\"plantation\"],\"id\":\"12\"},{\"keyPhrases\":[\"years\"],\"id\":\"13\"},{\"keyPhrases\":[\"\"],\"id\":\"14\"},{\"keyPhrases\":[\"Algeria\",\"rank of Captain\",\"son\",\"Philippe\"],\"id\":\"15\"},{\"keyPhrases\":[\"sergeant\",\"Dien Bien Phu\",\"Henry  LeFevre\"],\"id\":\"16\"},{\"keyPhrases\":[\"personal  servant\",\"Tran Van Kac\",\"trees\"],\"id\":\"17\"},{\"keyPhrases\":[\"wear bush clothing\",\"tiger suit\",\"different positions\",\"women\",\"bear weapons\"],\"id\":\"18\"},{\"keyPhrases\":[\"youngest son\"],\"id\":\"19\"},{\"keyPhrases\":[\"tall girl\",\"Ann-Marie\",\"wife\",\"goodlooking\"],\"id\":\"20\"},{\"keyPhrases\":[\"youngest daughter\",\"Claudine\"],\"id\":\"21\"},{\"keyPhrases\":[\"\"],\"id\":\"22\"},{\"keyPhrases\":[\"dozen native men\",\"tiger suits\",\"Philippe\",\"trees\"],\"id\":\"23\"},{\"keyPhrases\":[\"Philippe\",\"Americans\"],\"id\":\"24\"},{\"keyPhrases\":[\"dead\"],\"id\":\"25\"},{\"keyPhrases\":[\"smiles\",\"shower\"],\"id\":\"26\"},{\"keyPhrases\":[\"repairs\",\"dinner\"],\"id\":\"27\"},{\"keyPhrases\":[\"man of war\",\"ally\",\"Captain\"],\"id\":\"28\"},{\"keyPhrases\":[\"Willard steps\",\"stops\",\"stock\"],\"id\":\"29\"},{\"keyPhrases\":[\"Captain\",\"unfortunate necessity\"],\"id\":\"30\"},{\"keyPhrases\":[\"men\"],\"id\":\"31\"},{\"keyPhrases\":[\"weapons\"],\"id\":\"32\"},{\"keyPhrases\":[\"men\",\"captain\",\"suitable accomodation\",\"course\",\"us\",\"Philippe\"],\"id\":\"33\"},{\"keyPhrases\":[\"Chief\"],\"id\":\"34\"},{\"keyPhrases\":[\"Captain\"],\"id\":\"35\"},{\"keyPhrases\":[\"feet\",\"jungle\",\"huge crater\",\"Willard follows\",\"house\"],\"id\":\"36\"},{\"keyPhrases\":[\"water\",\"young French\",\"Vietnamese children\"],\"id\":\"37\"},{\"keyPhrases\":[\"men\",\"machine guns\",\"woman\"],\"id\":\"38\"},{\"keyPhrases\":[\"Gaston strides\",\"crater\"],\"id\":\"39\"},{\"keyPhrases\":[\"Captain\",\"Willard looks\"],\"id\":\"40\"},{\"keyPhrases\":[\"\"],\"id\":\"41\"},{\"keyPhrases\":[\"Indochina\"],\"id\":\"42\"},{\"keyPhrases\":[\"Paris\"],\"id\":\"43\"},{\"keyPhrases\":[\"Normandy\"],\"id\":\"44\"},{\"keyPhrases\":[\"\"],\"id\":\"45\"},{\"keyPhrases\":[\"country\",\"pause\"],\"id\":\"46\"},{\"keyPhrases\":[\"\"],\"id\":\"47\"},{\"keyPhrases\":[\"serious admiration\",\"big hole\",\"Willard\",\"feat\"],\"id\":\"48\"},{\"keyPhrases\":[\"Roxanne\"],\"id\":\"49\"},{\"keyPhrases\":[\"paratroop regiment\",\"Willard\"],\"id\":\"50\"},{\"keyPhrases\":[\"paratrooper\",\"regular soldier\",\"difference\"],\"id\":\"51\"},{\"keyPhrases\":[\"Attacks\"],\"id\":\"52\"},{\"keyPhrases\":[\"war\",\"Captain\"],\"id\":\"53\"},{\"keyPhrases\":[\"North Vietnamese  regular forces\",\"regular  forces\",\"South  Vietnamese\",\"Viet Cong\"],\"id\":\"54\"},{\"keyPhrases\":[\"pause\"],\"id\":\"55\"},{\"keyPhrases\":[\"mistakes\",\"Captain\"],\"id\":\"56\"},{\"keyPhrases\":[\"Captain\"],\"id\":\"57\"},{\"keyPhrases\":[\"Captain\",\"home\"],\"id\":\"58\"},{\"keyPhrases\":[\"Indochina\",\"years\"],\"id\":\"59\"},{\"keyPhrases\":[\"\"],\"id\":\"60\"},{\"keyPhrases\":[\"place\"],\"id\":\"61\"},{\"keyPhrases\":[\"jungle\"],\"id\":\"62\"},{\"keyPhrases\":[\"boy\",\"father\",\"hunt\"],\"id\":\"63\"},{\"keyPhrases\":[\"white man\",\"savages\"],\"id\":\"64\"},{\"keyPhrases\":[\"\"],\"id\":\"65\"},{\"keyPhrases\":[\"Roxanne\",\"Gaston rises\"],\"id\":\"66\"},{\"keyPhrases\":[\"Bon nuit\",\"Roxanne\",\"Captain\"],\"id\":\"67\"},{\"keyPhrases\":[\"Willard turns\"],\"id\":\"68\"},{\"keyPhrases\":[\"men\"],\"id\":\"69\"},{\"keyPhrases\":[\"time\"],\"id\":\"70\"},{\"keyPhrases\":[\"daughter\",\"conditions\"],\"id\":\"71\"},{\"keyPhrases\":[\"hole\",\"jungle\",\"captain\",\"house\",\"cellar\"],\"id\":\"72\"},{\"keyPhrases\":[\"forest\",\"swamp\"],\"id\":\"73\"},{\"keyPhrases\":[\"blood\",\"thing\",\"bayonets\"],\"id\":\"74\"},{\"keyPhrases\":[\"Captain\"],\"id\":\"75\"}],\"errors\":[]}'\n"
     ]
    }
   ],
   "source": [
    "data2=get_data(interventions[\"GASTON\"],param=\"KeyPhrases\")"
   ]
  },
  {
   "cell_type": "code",
   "execution_count": null,
   "metadata": {
    "collapsed": false
   },
   "outputs": [
    {
     "data": {
      "image/png": "[encoded data removed]",
      "text/plain": [
       "<matplotlib.figure.Figure at 0x281fd58ab70>"
      ]
     },
     "metadata": {},
     "output_type": "display_data"
    }
   ],
   "source": [
    "scores=[np.mean([j for j in scores[\"WILLARD\"][max(0,k-10):min(len(scores[\"WILLARD\"])-1,k+10)]]) for k in range(len(scores[\"WILLARD\"]))]\n",
    "plt.plot(scores)\n",
    "plt.show()"
   ]
  },
  {
   "cell_type": "code",
   "execution_count": null,
   "metadata": {
    "collapsed": false
   },
   "outputs": [],
   "source": [
    "url=\"http://www.imsdb.com/scripts/V-for-Vendetta.html\"\n",
    "u = urllib.request.urlopen(url, data = None)\n",
    "f = io.TextIOWrapper(u,encoding='utf-8',errors='ignore')\n",
    "text = f.read()\n",
    "script=text.split(\"scrtext\")[1]\n",
    "script=script.replace(\"\\n\",\"\").split(\"<b>\")\n",
    "characters=[\"EVEY\",\"V\",\"PROTHERO\",\"LEADER\"]\n",
    "interventions=sort_by_characters(characters,script)\n",
    "datas={character : get_data(interventions[character]) for character in characters}\n",
    "scores={character : [k for k in read_data(datas[character]) if k!=0.5] for character in characters}\n",
    "for character in characters:\n",
    "    print(character,len(scores[character]),np.mean(scores[character]))"
   ]
  },
  {
   "cell_type": "code",
   "execution_count": null,
   "metadata": {
    "collapsed": false
   },
   "outputs": [],
   "source": [
    "scores2=[np.mean([j for j in scores[\"EVEY\"][max(0,k-10):min(len(scores[\"EVEY\"])-1,k+10)]]) for k in range(len(scores[\"EVEY\"]))]\n",
    "plt.plot(scores2)\n",
    "plt.show()"
   ]
  },
  {
   "cell_type": "code",
   "execution_count": null,
   "metadata": {
    "collapsed": false
   },
   "outputs": [],
   "source": [
    "scores2=[np.mean([j for j in scores[\"LEADER\"][max(0,k-10):min(len(scores[\"LEADER\"])-1,k+10)]]) for k in range(len(scores[\"LEADER\"]))]\n",
    "plt.plot(scores2)\n",
    "plt.show()"
   ]
  },
  {
   "cell_type": "code",
   "execution_count": null,
   "metadata": {
    "collapsed": true
   },
   "outputs": [],
   "source": []
  }
 ],
 "metadata": {
  "anaconda-cloud": {},
  "kernelspec": {
   "display_name": "Python [conda root]",
   "language": "python",
   "name": "conda-root-py"
  },
  "language_info": {
   "codemirror_mode": {
    "name": "ipython",
    "version": 3
   },
   "file_extension": ".py",
   "mimetype": "text/x-python",
   "name": "python",
   "nbconvert_exporter": "python",
   "pygments_lexer": "ipython3",
   "version": "3.5.2"
  }
 },
 "nbformat": 4,
 "nbformat_minor": 1
}
